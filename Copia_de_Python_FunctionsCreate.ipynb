{
  "nbformat": 4,
  "nbformat_minor": 0,
  "metadata": {
    "colab": {
      "provenance": []
    },
    "kernelspec": {
      "name": "python3",
      "display_name": "Python 3"
    },
    "language_info": {
      "name": "python"
    }
  },
  "cells": [
    {
      "cell_type": "markdown",
      "source": [
        "<br>\n",
        "\n",
        "![Imgur](https://i.imgur.com/zRrFdsf.png)\n",
        "\n",
        "_____\n"
      ],
      "metadata": {
        "id": "BPvc8n_FRqAg"
      }
    },
    {
      "cell_type": "markdown",
      "source": [
        "Create functions in Python"
      ],
      "metadata": {
        "id": "-J6Fg6h2hP00"
      }
    },
    {
      "cell_type": "code",
      "source": [
        "x=\"1,200\"\n",
        "x"
      ],
      "metadata": {
        "id": "CVArPwdccFFH",
        "outputId": "bfe094f2-fc60-45fc-cee1-8db8c0e52299",
        "colab": {
          "base_uri": "https://localhost:8080/",
          "height": 35
        }
      },
      "execution_count": null,
      "outputs": [
        {
          "output_type": "execute_result",
          "data": {
            "text/plain": [
              "'1,200'"
            ],
            "application/vnd.google.colaboratory.intrinsic+json": {
              "type": "string"
            }
          },
          "metadata": {},
          "execution_count": 1
        }
      ]
    },
    {
      "cell_type": "code",
      "source": [
        "type(x)"
      ],
      "metadata": {
        "id": "OnDtDjUmcJ7-",
        "outputId": "323f17ca-2750-4582-9360-1a2c11a12953",
        "colab": {
          "base_uri": "https://localhost:8080/"
        }
      },
      "execution_count": null,
      "outputs": [
        {
          "output_type": "execute_result",
          "data": {
            "text/plain": [
              "str"
            ]
          },
          "metadata": {},
          "execution_count": 2
        }
      ]
    },
    {
      "cell_type": "code",
      "source": [
        "x+1 #como es la suma entre un texto y un número no funciona"
      ],
      "metadata": {
        "id": "O29lgfPOcNhG",
        "outputId": "01f99929-a719-4f82-d83c-d82b4b07eef6",
        "colab": {
          "base_uri": "https://localhost:8080/",
          "height": 141
        }
      },
      "execution_count": null,
      "outputs": [
        {
          "output_type": "error",
          "ename": "TypeError",
          "evalue": "can only concatenate str (not \"int\") to str",
          "traceback": [
            "\u001b[0;31m---------------------------------------------------------------------------\u001b[0m",
            "\u001b[0;31mTypeError\u001b[0m                                 Traceback (most recent call last)",
            "\u001b[0;32m<ipython-input-3-da2b8556d113>\u001b[0m in \u001b[0;36m<cell line: 0>\u001b[0;34m()\u001b[0m\n\u001b[0;32m----> 1\u001b[0;31m \u001b[0mx\u001b[0m\u001b[0;34m+\u001b[0m\u001b[0;36m1\u001b[0m\u001b[0;34m\u001b[0m\u001b[0;34m\u001b[0m\u001b[0m\n\u001b[0m",
            "\u001b[0;31mTypeError\u001b[0m: can only concatenate str (not \"int\") to str"
          ]
        }
      ]
    },
    {
      "cell_type": "markdown",
      "source": [
        "como x es un texto, añadir + 1 hace que obligatoriamente se deba concatenar"
      ],
      "metadata": {
        "id": "X6DSkwyyCCaN"
      }
    },
    {
      "cell_type": "code",
      "source": [
        "x + \"1\" #si se colocan \"\" al 1 esto permite solamente concatenar, no sumar"
      ],
      "metadata": {
        "id": "MMhol3KjCVsO",
        "outputId": "c0263621-23fb-43ad-96e2-b96d1617dbd4",
        "colab": {
          "base_uri": "https://localhost:8080/",
          "height": 35
        }
      },
      "execution_count": null,
      "outputs": [
        {
          "output_type": "execute_result",
          "data": {
            "text/plain": [
              "'1,2001'"
            ],
            "application/vnd.google.colaboratory.intrinsic+json": {
              "type": "string"
            }
          },
          "metadata": {},
          "execution_count": 4
        }
      ]
    },
    {
      "cell_type": "code",
      "source": [
        "1,200"
      ],
      "metadata": {
        "id": "AuwP2bBScQ56"
      },
      "execution_count": null,
      "outputs": []
    },
    {
      "cell_type": "code",
      "source": [
        "y=1200\n",
        "y"
      ],
      "metadata": {
        "id": "Eri4WgQzcVlK",
        "outputId": "e0f8908e-7d64-424f-b2a2-ce18b98411d5",
        "colab": {
          "base_uri": "https://localhost:8080/"
        }
      },
      "execution_count": null,
      "outputs": [
        {
          "output_type": "execute_result",
          "data": {
            "text/plain": [
              "1200"
            ]
          },
          "metadata": {},
          "execution_count": 5
        }
      ]
    },
    {
      "cell_type": "code",
      "source": [
        "type(y)"
      ],
      "metadata": {
        "id": "XVPnHHEzcaDK",
        "outputId": "60b4cc41-d1f6-4466-b6eb-a80fbd401841",
        "colab": {
          "base_uri": "https://localhost:8080/"
        }
      },
      "execution_count": null,
      "outputs": [
        {
          "output_type": "execute_result",
          "data": {
            "text/plain": [
              "int"
            ]
          },
          "metadata": {},
          "execution_count": 6
        }
      ]
    },
    {
      "cell_type": "code",
      "source": [
        "z=\"1,200\""
      ],
      "metadata": {
        "id": "N5gYdBHLczvY"
      },
      "execution_count": null,
      "outputs": []
    },
    {
      "cell_type": "code",
      "source": [
        "float(z)"
      ],
      "metadata": {
        "id": "1VcbWRppc2x-",
        "outputId": "fb4e6aed-d1b0-4e73-c1f9-e86a958c6ba0",
        "colab": {
          "base_uri": "https://localhost:8080/",
          "height": 141
        }
      },
      "execution_count": null,
      "outputs": [
        {
          "output_type": "error",
          "ename": "ValueError",
          "evalue": "could not convert string to float: '1,200'",
          "traceback": [
            "\u001b[0;31m---------------------------------------------------------------------------\u001b[0m",
            "\u001b[0;31mValueError\u001b[0m                                Traceback (most recent call last)",
            "\u001b[0;32m<ipython-input-8-1d458cb500df>\u001b[0m in \u001b[0;36m<cell line: 0>\u001b[0;34m()\u001b[0m\n\u001b[0;32m----> 1\u001b[0;31m \u001b[0mfloat\u001b[0m\u001b[0;34m(\u001b[0m\u001b[0mz\u001b[0m\u001b[0;34m)\u001b[0m\u001b[0;34m\u001b[0m\u001b[0;34m\u001b[0m\u001b[0m\n\u001b[0m",
            "\u001b[0;31mValueError\u001b[0m: could not convert string to float: '1,200'"
          ]
        }
      ]
    },
    {
      "cell_type": "markdown",
      "source": [
        "un número entre comillas no considera la coma como un caractér numérico por tanto no acepta el float"
      ],
      "metadata": {
        "id": "NxOOpQbUC_Hm"
      }
    },
    {
      "cell_type": "code",
      "source": [
        "w=\"1200\""
      ],
      "metadata": {
        "id": "C-JgAIaZc6E_"
      },
      "execution_count": null,
      "outputs": []
    },
    {
      "cell_type": "code",
      "source": [
        "float(w)"
      ],
      "metadata": {
        "id": "joL3ly9nc9rO",
        "outputId": "17bb627c-e8d4-4fc7-9196-daf442c91ea0",
        "colab": {
          "base_uri": "https://localhost:8080/"
        }
      },
      "execution_count": null,
      "outputs": [
        {
          "output_type": "execute_result",
          "data": {
            "text/plain": [
              "1200.0"
            ]
          },
          "metadata": {},
          "execution_count": 20
        }
      ]
    },
    {
      "cell_type": "markdown",
      "source": [
        "el punto \".\" sí se accepta como un caractér numérico, pero la coma \",\" no"
      ],
      "metadata": {
        "id": "qsfrT5SaDV7k"
      }
    },
    {
      "cell_type": "code",
      "source": [
        "a=\"12.4\""
      ],
      "metadata": {
        "id": "rhIU9qqzDeab"
      },
      "execution_count": null,
      "outputs": []
    },
    {
      "cell_type": "code",
      "source": [
        "float(a)"
      ],
      "metadata": {
        "id": "NVyTtvAADigp",
        "outputId": "1d36d020-ac70-4aa7-9356-5b1a61cdd24a",
        "colab": {
          "base_uri": "https://localhost:8080/"
        }
      },
      "execution_count": null,
      "outputs": [
        {
          "output_type": "execute_result",
          "data": {
            "text/plain": [
              "12.4"
            ]
          },
          "metadata": {},
          "execution_count": 18
        }
      ]
    },
    {
      "cell_type": "code",
      "source": [
        "def charToNum(xString):\n",
        "  import re\n",
        "  xNum=re.sub(\",\",\"\",xString) #se reemplaza la coma \",\" con nada \"\"\n",
        "  xNum=float(xNum)\n",
        "  return xNum"
      ],
      "metadata": {
        "id": "goZSGgd1RsMV"
      },
      "execution_count": null,
      "outputs": []
    },
    {
      "cell_type": "code",
      "source": [
        "charToNum(\"3,210\")"
      ],
      "metadata": {
        "id": "Kb79HUrRSQD_",
        "outputId": "a164ef24-aee4-433b-99fb-982a0f7e0797",
        "colab": {
          "base_uri": "https://localhost:8080/"
        }
      },
      "execution_count": null,
      "outputs": [
        {
          "output_type": "execute_result",
          "data": {
            "text/plain": [
              "3210.0"
            ]
          },
          "metadata": {},
          "execution_count": 22
        }
      ]
    },
    {
      "cell_type": "code",
      "source": [
        "charToNum(\"1 200.56\")"
      ],
      "metadata": {
        "id": "B4ySPpGD9JrM"
      },
      "execution_count": null,
      "outputs": []
    },
    {
      "cell_type": "code",
      "source": [
        "def charToNum(xString):\n",
        "  import re\n",
        "  xNum=re.sub(\",|\\s\",\"\",xString) #sustituir la coma \",\" o el espacio en blanco (\\s) con nada\n",
        "  xNum=float(xNum)\n",
        "  return xNum"
      ],
      "metadata": {
        "id": "a-M3foW79TSb"
      },
      "execution_count": null,
      "outputs": []
    },
    {
      "cell_type": "code",
      "source": [
        "charToNum(\"1 200.56\")"
      ],
      "metadata": {
        "id": "GMFcnfRa9qdF"
      },
      "execution_count": null,
      "outputs": []
    },
    {
      "cell_type": "code",
      "source": [
        "charToNum(\"1'200,145.56\")"
      ],
      "metadata": {
        "id": "lRUnKkB79z2c"
      },
      "execution_count": null,
      "outputs": []
    },
    {
      "cell_type": "code",
      "source": [
        "def charToNum(xString): #def = definir\n",
        "  import re #cuando se llama a una librería \"re\" esta aplica solo dentro de la función, no para el resto del código\n",
        "  xNum=re.sub(\",|\\s|'\",\"\",xString) #sustituir la coma \",\" o el espacio en blanco (\\s) o el apóstrofe \"'\" con nada\n",
        "  xNum=float(xNum)\n",
        "  return xNum"
      ],
      "metadata": {
        "id": "CKnBjv53-I7l"
      },
      "execution_count": null,
      "outputs": []
    },
    {
      "cell_type": "code",
      "source": [
        "charToNum(\"1 200 145.56\")"
      ],
      "metadata": {
        "id": "Z8ESTSXp-TmF"
      },
      "execution_count": null,
      "outputs": []
    },
    {
      "cell_type": "code",
      "source": [
        "charToNum(\"1'200,145.56\")"
      ],
      "metadata": {
        "id": "ffusCjWjBPfN"
      },
      "execution_count": null,
      "outputs": []
    },
    {
      "cell_type": "markdown",
      "source": [
        "ahora se sustituye la función con lambda"
      ],
      "metadata": {
        "id": "UI8ACk4hFouL"
      }
    },
    {
      "cell_type": "code",
      "source": [
        "import re #como no se está definiendo la función, es decir como la librería no está debajo de un def, se debe volver a llamar la librería\n",
        "charToNum_2=lambda xString:float(re.sub(\",|\\s|'\",\"\",xString))\n",
        "charToNum_2('1,250.9')"
      ],
      "metadata": {
        "id": "iXfwf0AIT8V_"
      },
      "execution_count": null,
      "outputs": []
    },
    {
      "cell_type": "code",
      "source": [
        "def toPower(aNumber, aPower):\n",
        "  numPow=aNumber**aPower\n",
        "  return numPow"
      ],
      "metadata": {
        "id": "VPO4_kcVTehj"
      },
      "execution_count": null,
      "outputs": []
    },
    {
      "cell_type": "code",
      "source": [
        "toPower(2,3)"
      ],
      "metadata": {
        "id": "PFmeJBTDMlUU"
      },
      "execution_count": null,
      "outputs": []
    },
    {
      "cell_type": "code",
      "source": [
        "toPower(2,0)"
      ],
      "metadata": {
        "id": "Q3ierY4DMm_S"
      },
      "execution_count": null,
      "outputs": []
    },
    {
      "cell_type": "code",
      "source": [
        "toPower(2,-1)"
      ],
      "metadata": {
        "id": "lZJbBqWfMqA9"
      },
      "execution_count": null,
      "outputs": []
    },
    {
      "cell_type": "code",
      "source": [
        "def toPower(aNumber, aPower=2):\n",
        "  numPow=aNumber**aPower\n",
        "  return numPow"
      ],
      "metadata": {
        "id": "08VPuHkyMsKU"
      },
      "execution_count": null,
      "outputs": []
    },
    {
      "cell_type": "code",
      "source": [
        "toPower(9)"
      ],
      "metadata": {
        "id": "fP--FQvcMxoL"
      },
      "execution_count": null,
      "outputs": []
    },
    {
      "cell_type": "code",
      "source": [
        "toPower(9,4)\n"
      ],
      "metadata": {
        "id": "LD_Gh7YmM0EO"
      },
      "execution_count": null,
      "outputs": []
    },
    {
      "cell_type": "code",
      "source": [],
      "metadata": {
        "id": "7ReIIwPgn7Up"
      },
      "execution_count": null,
      "outputs": []
    }
  ]
}